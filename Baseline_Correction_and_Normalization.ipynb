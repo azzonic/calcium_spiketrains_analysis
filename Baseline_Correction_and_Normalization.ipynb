{
 "cells": [
  {
   "cell_type": "code",
   "execution_count": 1,
   "id": "f54b6764",
   "metadata": {},
   "outputs": [],
   "source": [
    "import pandas as pd\n",
    "import matplotlib.pyplot as plt\n",
    "import plotly.graph_objects as go\n",
    "import numpy as np\n",
    "import seaborn as sns\n",
    "import peakutils\n"
   ]
  },
  {
   "cell_type": "code",
   "execution_count": 2,
   "id": "9e5ea861",
   "metadata": {},
   "outputs": [],
   "source": [
    "#Upload the .txt file with the analysed spiketrains\n",
    "df = pd.read_csv('path/file_name.txt', encoding='UTF-16', delimiter='\\t') #change path for uploading file\n",
    "\n",
    "#clean columns/adjust names\n",
    "df = df.drop([\"Name\"], axis=1)\n",
    "df.columns = df.columns.str.replace('#', 'Roi_').str.replace(' (New)', '')"
   ]
  },
  {
   "cell_type": "code",
   "execution_count": 4,
   "id": "ca5c58b5-ac0f-4bd2-81dd-94149e200d83",
   "metadata": {},
   "outputs": [],
   "source": [
    "#Drop NaN values\n",
    "df = df.dropna(axis=1, how='all')"
   ]
  },
  {
   "cell_type": "code",
   "execution_count": null,
   "id": "5deb69ac-02e9-428c-932d-a702cef22224",
   "metadata": {},
   "outputs": [],
   "source": [
    "#Choose the degree and the iterations for the polinomial fit\n",
    "deg = 5\n",
    "max_it = 250\n",
    "\n",
    "# Initialize an empty dictionary to store the mean baseline values for each ROI\n",
    "baseline_means = {}\n",
    "\n",
    "# Iterate over all columns except the first two\n",
    "for col in df.columns[2:]:\n",
    "    # Extract the column as a NumPy array\n",
    "    y = df[col].values\n",
    "\n",
    "    # Compute the baseline\n",
    "    bl = peakutils.baseline(y, deg=deg, max_it=max_it)\n",
    "\n",
    "    # Plot the original data and the baseline on the same plot\n",
    "    plt.figure()\n",
    "    sns.lineplot(x=df[\"Time [s]\"], y=y, label='Original')\n",
    "    sns.lineplot(x=df[\"Time [s]\"], y=bl, label='Baseline')\n",
    "    plt.title(f\"Original and Baseline for {col}\")\n",
    "    plt.legend()\n",
    "    plt.show()\n",
    "\n",
    "    # Subtract the baseline from the original data\n",
    "    corrected = y - bl\n",
    "\n",
    "    # Store the corrected data back in the DataFrame\n",
    "    df[col] = corrected\n",
    "\n",
    "    # Compute the mean of the corrected baseline\n",
    "    baseline_mean = np.mean(bl)\n",
    "    baseline_means[col] = baseline_mean  # Store this for normalization\n",
    "\n",
    "    # Plot the corrected data\n",
    "    plt.figure()\n",
    "    sns.lineplot(x=df[\"Time [s]\"], y=corrected, label='Corrected')\n",
    "    plt.title(f\"Corrected data for {col}\")\n",
    "    plt.show()\n",
    "\n",
    "# Now compute ΔF/F0 using the stored mean baseline values for each ROI\n",
    "for col in df.columns[2:]:\n",
    "    df[col] = df[col] / baseline_means[col]\n",
    "\n",
    "# Reconstruct the DataFrame with normalized data\n",
    "df_norm = pd.concat([df.iloc[:, :2], df.iloc[:, 2:]], axis=1)\n",
    "\n",
    "#save the dataframe\n",
    "df_norm.to_csv('path/file_name_analysis.csv', index=False)  #chnage path\n"
   ]
  },
  {
   "cell_type": "code",
   "execution_count": null,
   "id": "c6b3598e-37cb-42de-b85e-9038f2de5489",
   "metadata": {},
   "outputs": [],
   "source": [
    "#Check ther normalised traces: \n",
    "if 'df_norm' in locals():\n",
    "    pass\n",
    "else:\n",
    "    df_norm = pd.read_csv('path/file_name_analysis.csv') # Change path\n",
    "\n",
    "# max value of intensity among the df\n",
    "max_value = df_norm.iloc[:, 2:].max().max()\n",
    "max_value\n",
    "fig = go.Figure()\n",
    "\n",
    "\n",
    "\n",
    "for column in df_norm.iloc[:, 2:].columns:\n",
    "    fig.add_trace(go.Scatter(x=df_norm['Time [s]'], y=df_norm[column], mode='lines', name=f'{column}'))\n",
    "\n",
    "fig.update_layout(\n",
    "    xaxis=dict(title='Time (s)', dtick=250, tickformat='d'),\n",
    "    yaxis_title=\"Normalized Intensity\",\n",
    "    title=\"Normalized Intensity over Time\",\n",
    "    legend=dict(\n",
    "        orientation=\"v\",\n",
    "        yanchor=\"top\",\n",
    "        y=0.99,\n",
    "        xanchor=\"left\",\n",
    "        x=1.02\n",
    "    ),\n",
    "    title_x=0.5,  # Title centered above the graph\n",
    "    title_y=0.9,   # Adjust title position above the graph\n",
    "    height=600,\n",
    "    width=800,\n",
    "    showlegend=True,\n",
    "    hovermode='x'\n",
    ")\n",
    "\n",
    "fig.show()"
   ]
  },
  {
   "cell_type": "code",
   "execution_count": null,
   "id": "695ec9d0-39ec-4797-b8ad-a2641c4bfcac",
   "metadata": {},
   "outputs": [],
   "source": []
  }
 ],
 "metadata": {
  "kernelspec": {
   "display_name": "Python 3",
   "language": "python",
   "name": "python3"
  },
  "language_info": {
   "codemirror_mode": {
    "name": "ipython",
    "version": 3
   },
   "file_extension": ".py",
   "mimetype": "text/x-python",
   "name": "python",
   "nbconvert_exporter": "python",
   "pygments_lexer": "ipython3",
   "version": "3.12.1"
  }
 },
 "nbformat": 4,
 "nbformat_minor": 5
}
